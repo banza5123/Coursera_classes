{
 "cells": [
  {
   "cell_type": "code",
   "execution_count": 3,
   "id": "7c30a81d-5f90-4d69-8e68-6f8802f2dab4",
   "metadata": {},
   "outputs": [
    {
     "name": "stdout",
     "output_type": "stream",
     "text": [
      "                                                                                \n",
      "25┤                                                                             \n",
      "  │                                                                             \n",
      "  │                                                                             \n",
      "  │                                                                            ⣀\n",
      "20┤                                                                     ⢀⣀⣠⠤⠖⠚⠋⠉\n",
      "  │                                                                ⢀⣀⠤⠖⠛⠉⠁      \n",
      "  │                                                           ⣀⡠⣤⠶⠚⠉            \n",
      "  │                                                    ⢀⣀⣀⡠⠴⠶⠝⠒⠉                \n",
      "15┤                                              ⢀⡠⠤⣒⡪⠭⠓⠉⠁                      \n",
      "  │                                         ⢀⡠⢔⣒⠭⠕⠊⠉                            \n",
      "  │                                     ⢀⣠⡴⠮⠓⠉⠁                                 \n",
      "10┤                                ⢀⣀⠤⠔⠚⠉                                       \n",
      "  │                           ⣀⡠⣤⠶⠛⠉                                            \n",
      "  │                      ⣀⢤⣔⡪⠭⠒⠉                                                \n",
      "  │                ⢀⣀⡠⠴⠖⠛⠉⠁                                                     \n",
      " 5┤         ⣀⡠⢤⣔⠶⠚⠋⠉                                                            \n",
      "  │     ⢀⣠⠴⠝⠒⠉⠁                                                                 \n",
      "  │⢀⡠⢤⡲⠚⠉                                                                       \n",
      "  │⠠⠒⠁                                                                          \n",
      " 0┤                                                                             \n",
      "   ┬───┬───┬────┬───┬───┬───┬────┬───┬───┬───┬───┬────┬───┬───┬───┬────┬───┬───┬\n",
      "   1  1.5  2   2.5  3  3.5  4   4.5  5  5.5  6  6.5   7  7.5  8  8.5   9  9.5 10\n",
      "Y = 2.08X + -0.24\n"
     ]
    }
   ],
   "source": [
    "import tplot\n",
    "import numpy as np\n",
    "from scipy.stats import linregress\n",
    "\n",
    "# Data\n",
    "x = [1, 2, 3, 4, 5, 6, 7, 8, 9, 10] \n",
    "y = [1.1154454190077805, 4.5072501906150935, 6.021961445156768, 7.628214768358338, 10.319722918463476, 12.960286383252827, 14.755663575374507, 15.792022881936443, 18.767099142266126, 20.026598222259135]\n",
    "# Calculate the trend line (best-fit line)\n",
    "slope, intercept, r_value, p_value, std_err = linregress(x, y)\n",
    "\n",
    "# Calculate the Y values of the trend line\n",
    "trendline = [(slope * xi + intercept) for xi in x]\n",
    "\n",
    "# Trend line equation\n",
    "trend_equation = f\"Y = {slope:.2f}X {intercept:.2f}\"\n",
    "\n",
    "# Create the scatter plot\n",
    "fig = tplot.Figure()\n",
    "fig.scatter(x, y)\n",
    "\n",
    "fig.line(x, y, color='red')\n",
    "fig.line(x, trendline)\n",
    "# Display the plot\n",
    "fig.show()\n",
    "print (trend_equation)\n"
   ]
  },
  {
   "cell_type": "code",
   "execution_count": 2,
   "id": "1c4d244b-9073-490a-b6be-f23ec7946196",
   "metadata": {},
   "outputs": [
    {
     "data": {
      "text/plain": [
       "[1.8378119048357129,\n",
       " 3.915948480354232,\n",
       " 5.994085055872752,\n",
       " 8.07222163139127,\n",
       " 10.15035820690979,\n",
       " 12.22849478242831,\n",
       " 14.306631357946829,\n",
       " 16.384767933465348,\n",
       " 18.46290450898387,\n",
       " 20.541041084502385]"
      ]
     },
     "execution_count": 2,
     "metadata": {},
     "output_type": "execute_result"
    }
   ],
   "source": [
    "trendline"
   ]
  },
  {
   "cell_type": "code",
   "execution_count": null,
   "id": "e535a81b-4358-48ca-aad5-1d4a10e8d691",
   "metadata": {},
   "outputs": [],
   "source": []
  }
 ],
 "metadata": {
  "kernelspec": {
   "display_name": "Python 3 (ipykernel)",
   "language": "python",
   "name": "python3"
  },
  "language_info": {
   "codemirror_mode": {
    "name": "ipython",
    "version": 3
   },
   "file_extension": ".py",
   "mimetype": "text/x-python",
   "name": "python",
   "nbconvert_exporter": "python",
   "pygments_lexer": "ipython3",
   "version": "3.9.6"
  }
 },
 "nbformat": 4,
 "nbformat_minor": 5
}
